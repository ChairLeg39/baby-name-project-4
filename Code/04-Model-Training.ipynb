{
 "cells": [
  {
   "cell_type": "code",
   "execution_count": 1,
   "id": "3b788807-5400-4dab-ae52-a3917c2c23a5",
   "metadata": {},
   "outputs": [],
   "source": [
    "# Import dependencies\n",
    "import pandas as pd\n",
    "import numpy as np\n",
    "from collections import defaultdict\n",
    "from pymongo import MongoClient\n",
    "from sklearn.model_selection import train_test_split\n",
    "from sklearn.metrics import accuracy_score\n",
    "import matplotlib.pyplot as plt\n",
    "import random\n",
    "import pickle\n",
    "import json\n",
    "import os"
   ]
  },
  {
   "cell_type": "code",
   "execution_count": 2,
   "id": "d0203d81-be96-4cc7-aa4d-f89f91b5e9c3",
   "metadata": {},
   "outputs": [],
   "source": [
    "# Connect to MongoDB and load data\n",
    "client = MongoClient('mongodb://localhost:27017/')\n",
    "db = client['babyNameDB']\n",
    "collection = db['babyNames']"
   ]
  },
  {
   "cell_type": "code",
   "execution_count": 3,
   "id": "712fb6ce-306c-41f4-89d5-eea05c3d7dfe",
   "metadata": {},
   "outputs": [
    {
     "name": "stdout",
     "output_type": "stream",
     "text": [
      "Loaded 21612 records from MongoDB.\n"
     ]
    },
    {
     "data": {
      "text/html": [
       "<div>\n",
       "<style scoped>\n",
       "    .dataframe tbody tr th:only-of-type {\n",
       "        vertical-align: middle;\n",
       "    }\n",
       "\n",
       "    .dataframe tbody tr th {\n",
       "        vertical-align: top;\n",
       "    }\n",
       "\n",
       "    .dataframe thead th {\n",
       "        text-align: right;\n",
       "    }\n",
       "</style>\n",
       "<table border=\"1\" class=\"dataframe\">\n",
       "  <thead>\n",
       "    <tr style=\"text-align: right;\">\n",
       "      <th></th>\n",
       "      <th>Year of Birth</th>\n",
       "      <th>Gender</th>\n",
       "      <th>Ethnicity</th>\n",
       "      <th>First Name</th>\n",
       "      <th>Count</th>\n",
       "      <th>Rank</th>\n",
       "    </tr>\n",
       "  </thead>\n",
       "  <tbody>\n",
       "    <tr>\n",
       "      <th>0</th>\n",
       "      <td>2011</td>\n",
       "      <td>FEMALE</td>\n",
       "      <td>HISPANIC</td>\n",
       "      <td>GERALDINE</td>\n",
       "      <td>13</td>\n",
       "      <td>75</td>\n",
       "    </tr>\n",
       "    <tr>\n",
       "      <th>1</th>\n",
       "      <td>2011</td>\n",
       "      <td>FEMALE</td>\n",
       "      <td>HISPANIC</td>\n",
       "      <td>GIA</td>\n",
       "      <td>21</td>\n",
       "      <td>67</td>\n",
       "    </tr>\n",
       "    <tr>\n",
       "      <th>2</th>\n",
       "      <td>2011</td>\n",
       "      <td>FEMALE</td>\n",
       "      <td>HISPANIC</td>\n",
       "      <td>GIANNA</td>\n",
       "      <td>49</td>\n",
       "      <td>42</td>\n",
       "    </tr>\n",
       "    <tr>\n",
       "      <th>3</th>\n",
       "      <td>2011</td>\n",
       "      <td>FEMALE</td>\n",
       "      <td>HISPANIC</td>\n",
       "      <td>GISELLE</td>\n",
       "      <td>38</td>\n",
       "      <td>51</td>\n",
       "    </tr>\n",
       "    <tr>\n",
       "      <th>4</th>\n",
       "      <td>2011</td>\n",
       "      <td>FEMALE</td>\n",
       "      <td>HISPANIC</td>\n",
       "      <td>GRACE</td>\n",
       "      <td>36</td>\n",
       "      <td>53</td>\n",
       "    </tr>\n",
       "  </tbody>\n",
       "</table>\n",
       "</div>"
      ],
      "text/plain": [
       "   Year of Birth  Gender Ethnicity First Name  Count  Rank\n",
       "0           2011  FEMALE  HISPANIC  GERALDINE     13    75\n",
       "1           2011  FEMALE  HISPANIC        GIA     21    67\n",
       "2           2011  FEMALE  HISPANIC     GIANNA     49    42\n",
       "3           2011  FEMALE  HISPANIC    GISELLE     38    51\n",
       "4           2011  FEMALE  HISPANIC      GRACE     36    53"
      ]
     },
     "execution_count": 3,
     "metadata": {},
     "output_type": "execute_result"
    }
   ],
   "source": [
    "# Retrieve data from MongoDB\n",
    "data = list(collection.find({}, {'_id': 0}))\n",
    "df = pd.DataFrame(data)\n",
    "print(f\"Loaded {len(df)} records from MongoDB.\")\n",
    "df.head()"
   ]
  },
  {
   "cell_type": "code",
   "execution_count": 4,
   "id": "ab52be45-9d29-4fd1-93c4-cb3c9baf120e",
   "metadata": {},
   "outputs": [],
   "source": [
    "# Define Markov Chain Model\n",
    "class MarkovChain:\n",
    "    def __init__(self, order=2):\n",
    "        self.order = order\n",
    "        self.chain = defaultdict(lambda: defaultdict(int))\n",
    "        self.start_tokens = defaultdict(int)\n",
    "\n",
    "    def train(self, names):\n",
    "        for name in names:\n",
    "            tokens = ['<START>'] * self.order + list(name) + ['<END>']\n",
    "            self.start_tokens[tuple(tokens[:self.order])] += 1\n",
    "            for i in range(len(tokens) - self.order):\n",
    "                state = tuple(tokens[i:i+self.order])\n",
    "                next_char = tokens[i+self.order]\n",
    "                self.chain[state][next_char] += 1\n",
    "\n",
    "    def generate(self, min_length=3, max_length=12):\n",
    "        state = self._weighted_choice(self.start_tokens)\n",
    "        result = list(state)[1:]  # Remove the <START> token\n",
    "        while True:\n",
    "            next_char = self._weighted_choice(self.chain[state])\n",
    "            if next_char == '<END>' or len(result) >= max_length:\n",
    "                if len(result) >= min_length:\n",
    "                    return ''.join(result)\n",
    "                else:\n",
    "                    return self.generate(min_length, max_length)\n",
    "            result.append(next_char)\n",
    "            state = state[1:] + (next_char,)\n",
    "\n",
    "    def _weighted_choice(self, choices):\n",
    "        total = sum(choices.values())\n",
    "        r = np.random.rand() * total\n",
    "        for choice, weight in choices.items():\n",
    "            r -= weight\n",
    "            if r <= 0:\n",
    "                return choice\n",
    "\n",
    "    def evaluate(self, test_names):\n",
    "        total_prob = 0\n",
    "        for name in test_names:\n",
    "            prob = self.calculate_probability(name)\n",
    "            total_prob += prob\n",
    "        return total_prob / len(test_names)\n",
    "\n",
    "    def calculate_probability(self, name):\n",
    "        tokens = ['<START>'] * self.order + list(name) + ['<END>']\n",
    "        prob = 1.0\n",
    "        for i in range(len(tokens) - self.order):\n",
    "            state = tuple(tokens[i:i+self.order])\n",
    "            next_char = tokens[i+self.order]\n",
    "            if state in self.chain and next_char in self.chain[state]:\n",
    "                prob *= self.chain[state][next_char] / sum(self.chain[state].values())\n",
    "            else:\n",
    "                return 0\n",
    "        return prob\n",
    "\n",
    "    def to_dict(self):\n",
    "        return {\n",
    "            'order': self.order,\n",
    "            'chain': {str(k): dict(v) for k, v in self.chain.items()},\n",
    "            'start_tokens': {str(k): v for k, v in self.start_tokens.items()}\n",
    "        }\n",
    "\n",
    "    @classmethod\n",
    "    def from_dict(cls, data):\n",
    "        model = cls(data['order'])\n",
    "        model.chain = defaultdict(lambda: defaultdict(int), {tuple(eval(k)): defaultdict(int, v) for k, v in data['chain'].items()})\n",
    "        model.start_tokens = defaultdict(int, {tuple(eval(k)): v for k, v in data['start_tokens'].items()})\n",
    "        return model\n",
    "        \n",
    "    # def to_json(self):\n",
    "    #     return json.dumps({\n",
    "    #         'order': self.order,\n",
    "    #         'model': {str(k): v for k, v in self.model.items()}  # Convert tuple keys to strings\n",
    "    #     })\n",
    "    \n",
    "    # @classmethod\n",
    "    # def from_json(cls, json_str):\n",
    "    #     data = json.loads(json_str)\n",
    "    #     markov_chain = cls(data['order'])\n",
    "    #     markov_chain.model = {tuple(eval(k)): v for k, v in data['model'].items()}  # Convert string keys back to tuples\n",
    "    #     return markov_chain"
   ]
  },
  {
   "cell_type": "code",
   "execution_count": 5,
   "id": "935d786c-9523-4d8a-b26e-03772c52dac9",
   "metadata": {},
   "outputs": [],
   "source": [
    "# Function to train and evaluate models\n",
    "def train_and_evaluate(df, group_columns=['Gender', 'Ethnicity'], order=2):\n",
    "    results = []\n",
    "    for group, group_df in df.groupby(group_columns):\n",
    "        names = group_df['First Name'].tolist()\n",
    "        train_names, test_names = train_test_split(names, test_size=0.2, random_state=42)\n",
    "\n",
    "        model = MarkovChain(order=order)\n",
    "        model.train(train_names)\n",
    "\n",
    "        # Evaluate model\n",
    "        performance = model.evaluate(test_names)\n",
    "\n",
    "        results.append({\n",
    "            'Group': group,\n",
    "            'Model': model,\n",
    "            'Performance': performance\n",
    "        })\n",
    "\n",
    "    return results"
   ]
  },
  {
   "cell_type": "code",
   "execution_count": 6,
   "id": "93cedec9-a3f9-46a0-9826-3cc2081abac3",
   "metadata": {},
   "outputs": [],
   "source": [
    "# Train and evaluate models\n",
    "model_results = train_and_evaluate(df)"
   ]
  },
  {
   "cell_type": "code",
   "execution_count": 7,
   "id": "0362fdab-e50e-4bb8-bd48-c8cd8950afc2",
   "metadata": {},
   "outputs": [
    {
     "name": "stdout",
     "output_type": "stream",
     "text": [
      "Group: ('FEMALE', 'ASIAN AND PACIFIC ISLANDER'), Performance: 0.0004\n",
      "The model for female asian and pacific islander names has a performance of 0.0426%, meaning on average, it assigns a 0.0426% probability to each name in the test set.\n",
      "\n",
      "Group: ('FEMALE', 'BLACK NON HISPANIC'), Performance: 0.0005\n",
      "The model for female black non hispanic names has a performance of 0.0505%, meaning on average, it assigns a 0.0505% probability to each name in the test set.\n",
      "\n",
      "Group: ('FEMALE', 'HISPANIC'), Performance: 0.0003\n",
      "The model for female hispanic names has a performance of 0.0270%, meaning on average, it assigns a 0.0270% probability to each name in the test set.\n",
      "\n",
      "Group: ('FEMALE', 'WHITE NON HISPANIC'), Performance: 0.0002\n",
      "The model for female white non hispanic names has a performance of 0.0196%, meaning on average, it assigns a 0.0196% probability to each name in the test set.\n",
      "\n",
      "Group: ('MALE', 'ASIAN AND PACIFIC ISLANDER'), Performance: 0.0005\n",
      "The model for male asian and pacific islander names has a performance of 0.0464%, meaning on average, it assigns a 0.0464% probability to each name in the test set.\n",
      "\n",
      "Group: ('MALE', 'BLACK NON HISPANIC'), Performance: 0.0004\n",
      "The model for male black non hispanic names has a performance of 0.0418%, meaning on average, it assigns a 0.0418% probability to each name in the test set.\n",
      "\n",
      "Group: ('MALE', 'HISPANIC'), Performance: 0.0002\n",
      "The model for male hispanic names has a performance of 0.0241%, meaning on average, it assigns a 0.0241% probability to each name in the test set.\n",
      "\n",
      "Group: ('MALE', 'WHITE NON HISPANIC'), Performance: 0.0001\n",
      "The model for male white non hispanic names has a performance of 0.0121%, meaning on average, it assigns a 0.0121% probability to each name in the test set.\n",
      "\n"
     ]
    }
   ],
   "source": [
    "# Print results\n",
    "for result in model_results:\n",
    "    group = result['Group']\n",
    "    performance = result['Performance']\n",
    "    performance_percentage = performance * 100  # Convert to percentage\n",
    "\n",
    "    print(f\"Group: {group}, Performance: {performance:.4f}\")\n",
    "    print(f\"The model for {group[0].lower()} {group[1].lower()} names has a performance of {performance_percentage:.4f}%, \"\n",
    "          f\"meaning on average, it assigns a {performance_percentage:.4f}% probability to each name in the test set.\")\n",
    "    print()  # Add a blank line for readability between groups"
   ]
  },
  {
   "cell_type": "code",
   "execution_count": 8,
   "id": "8e7e1a13-cda1-4f87-b6f0-651ba01ada8c",
   "metadata": {},
   "outputs": [
    {
     "name": "stdout",
     "output_type": "stream",
     "text": [
      "\n",
      "Overall Model Performance: 0.0003\n",
      "The overall model has a performance of 0.0330%, meaning on average across all groups, it assigns a 0.0330% probability to each name in the test sets.\n"
     ]
    }
   ],
   "source": [
    "# Calculate overall performance\n",
    "overall_performance = np.mean([result['Performance'] for result in model_results])\n",
    "overall_performance_percentage = overall_performance * 100  # Convert to percentage\n",
    "\n",
    "print(f\"\\nOverall Model Performance: {overall_performance:.4f}\")\n",
    "print(f\"The overall model has a performance of {overall_performance_percentage:.4f}%, \"\n",
    "      f\"meaning on average across all groups, it assigns a {overall_performance_percentage:.4f}% \"\n",
    "      f\"probability to each name in the test sets.\")"
   ]
  },
  {
   "cell_type": "code",
   "execution_count": 9,
   "id": "48f0cd3f-e72a-4228-9e91-e198618a2415",
   "metadata": {},
   "outputs": [
    {
     "name": "stdout",
     "output_type": "stream",
     "text": [
      "Training models with order 1...\n",
      "Order 1 - Overall Performance: 0.0000\n",
      "Training models with order 2...\n",
      "Order 2 - Overall Performance: 0.0003\n",
      "Training models with order 3...\n",
      "Order 3 - Overall Performance: 0.0018\n"
     ]
    }
   ],
   "source": [
    "# Model Optimization\n",
    "def optimize_model(df, group_columns=['Gender', 'Ethnicity'], orders=[1, 2, 3]):\n",
    "    optimization_results = []\n",
    "    for order in orders:\n",
    "        print(f\"Training models with order {order}...\")\n",
    "        results = train_and_evaluate(df, group_columns, order)\n",
    "        overall_performance = np.mean([result['Performance'] for result in results])\n",
    "        optimization_results.append({\n",
    "            'Order': order,\n",
    "            'Overall Performance': overall_performance,\n",
    "            'Results': results\n",
    "        })\n",
    "        print(f\"Order {order} - Overall Performance: {overall_performance:.4f}\")\n",
    "    \n",
    "    return optimization_results\n",
    "\n",
    "optimization_results = optimize_model(df)"
   ]
  },
  {
   "cell_type": "code",
   "execution_count": 10,
   "id": "91827428-3888-4029-849c-40ec97c03837",
   "metadata": {},
   "outputs": [
    {
     "name": "stdout",
     "output_type": "stream",
     "text": [
      "\n",
      "Best Model - Order: 3, Performance: 0.0018\n"
     ]
    }
   ],
   "source": [
    "# Find the best model\n",
    "best_model = max(optimization_results, key=lambda x: x['Overall Performance'])\n",
    "print(f\"\\nBest Model - Order: {best_model['Order']}, Performance: {best_model['Overall Performance']:.4f}\")"
   ]
  },
  {
   "cell_type": "code",
   "execution_count": 11,
   "id": "264559a5-1472-4957-a74d-c6722cc08fe1",
   "metadata": {},
   "outputs": [
    {
     "data": {
      "image/png": "[encoded data removed]",
      "text/plain": [
       "<Figure size 1000x600 with 1 Axes>"
      ]
     },
     "metadata": {},
     "output_type": "display_data"
    }
   ],
   "source": [
    "# Plot optimization results\n",
    "plt.figure(figsize=(10, 6))\n",
    "plt.plot([r['Order'] for r in optimization_results], [r['Overall Performance'] for r in optimization_results], marker='o')\n",
    "plt.xlabel('Markov Chain Order')\n",
    "plt.ylabel('Overall Performance')\n",
    "plt.title('Model Performance vs Markov Chain Order')\n",
    "plt.show()"
   ]
  },
  {
   "cell_type": "code",
   "execution_count": 12,
   "id": "feee2cc5-34b3-4c54-8963-5ba44c183411",
   "metadata": {},
   "outputs": [
    {
     "name": "stdout",
     "output_type": "stream",
     "text": [
      "\n",
      "Group: ('FEMALE', 'ASIAN AND PACIFIC ISLANDER')\n",
      "  <START><START>NICOLE\n",
      "  <START><START>HANISHA\n",
      "  <START><START>ALINA\n",
      "  <START><START>PENE\n",
      "  <START><START>CAROLIVIAN\n",
      "\n",
      "Group: ('FEMALE', 'BLACK NON HISPANIC')\n",
      "  <START><START>MICHELSEA\n",
      "  <START><START>AISSATOUMA\n",
      "  <START><START>CHLOE\n",
      "  <START><START>JASMINE\n",
      "  <START><START>LAUREN\n",
      "\n",
      "Group: ('FEMALE', 'HISPANIC')\n",
      "  <START><START>VALEYLAH\n",
      "  <START><START>JAYLEN\n",
      "  <START><START>ESTHERINE\n",
      "  <START><START>ZOEY\n",
      "  <START><START>ARIANALIA\n",
      "\n",
      "Group: ('FEMALE', 'WHITE NON HISPANIC')\n",
      "  <START><START>LINA\n",
      "  <START><START>VALESSANDA\n",
      "  <START><START>DANISA\n",
      "  <START><START>NORAH\n",
      "  <START><START>FATILDA\n",
      "\n",
      "Group: ('MALE', 'ASIAN AND PACIFIC ISLANDER')\n",
      "  <START><START>IBRANDREW\n",
      "  <START><START>MILES\n",
      "  <START><START>ROHAMMED\n",
      "  <START><START>PRESTOPHER\n",
      "  <START><START>AHMAD\n",
      "\n",
      "Group: ('MALE', 'BLACK NON HISPANIC')\n",
      "  <START><START>MAVERY\n",
      "  <START><START>AYDEN\n",
      "  <START><START>JAIDEN\n",
      "  <START><START>JERMIAH\n",
      "  <START><START>ALEXANDREW\n",
      "\n",
      "Group: ('MALE', 'HISPANIC')\n",
      "  <START><START>ISMAEL\n",
      "  <START><START>RANCARMANU\n",
      "  <START><START>MATTHIAGO\n",
      "  <START><START>CRISTAVO\n",
      "  <START><START>JORDANIEL\n",
      "\n",
      "Group: ('MALE', 'WHITE NON HISPANIC')\n",
      "  <START><START>AVRAHIMOTH\n",
      "  <START><START>SHALOMO\n",
      "  <START><START>EMMED\n",
      "  <START><START>PINCHARLES\n",
      "  <START><START>AYDENNETHA\n"
     ]
    }
   ],
   "source": [
    "# Generate Sample Names\n",
    "def generate_sample_names(model_results, num_samples=5, min_length=3, max_length=12):\n",
    "    for result in model_results:\n",
    "        print(f\"\\nGroup: {result['Group']}\")\n",
    "        for _ in range(num_samples):\n",
    "            # Generate a random length between min_length and max_length\n",
    "            name_length = random.randint(min_length, max_length)\n",
    "            generated_name = result['Model'].generate(name_length)\n",
    "            # Convert the generated name to all uppercase\n",
    "            generated_name = generated_name.upper()\n",
    "            print(f\"  {generated_name}\")\n",
    "\n",
    "generate_sample_names(best_model['Results'])"
   ]
  },
  {
   "cell_type": "code",
   "execution_count": 13,
   "id": "b5925a09-5e3e-424f-b25a-9813a5da0172",
   "metadata": {},
   "outputs": [],
   "source": [
    "def save_models(models, filename='markov_trained.json'):\n",
    "    serialized_models = {f\"{gender}_{ethnicity}\": model.to_dict() for (gender, ethnicity), model in models.items()}\n",
    "    with open(filename, 'w') as f:\n",
    "        json.dump(serialized_models, f)"
   ]
  },
  {
   "cell_type": "code",
   "execution_count": 14,
   "id": "f018ca7f-aecb-471c-a2ac-72a762e2a52f",
   "metadata": {},
   "outputs": [
    {
     "name": "stdout",
     "output_type": "stream",
     "text": [
      "Models saved successfully.\n"
     ]
    }
   ],
   "source": [
    "# Create a dictionary to store the models\n",
    "baby_name_models = {}\n",
    "for result in best_model['Results']:\n",
    "    gender, ethnicity = result['Group']\n",
    "    model = result['Model']\n",
    "    baby_name_models[(gender, ethnicity)] = model\n",
    "\n",
    "# Save the models\n",
    "save_models(baby_name_models, 'markov_trained.json')\n",
    "print(\"Models saved successfully.\")"
   ]
  },
  {
   "cell_type": "code",
   "execution_count": null,
   "id": "a2e9c853-9fdb-4910-b575-e300944cfc29",
   "metadata": {},
   "outputs": [],
   "source": []
  }
 ],
 "metadata": {
  "kernelspec": {
   "display_name": "Python 3 (ipykernel)",
   "language": "python",
   "name": "python3"
  },
  "language_info": {
   "codemirror_mode": {
    "name": "ipython",
    "version": 3
   },
   "file_extension": ".py",
   "mimetype": "text/x-python",
   "name": "python",
   "nbconvert_exporter": "python",
   "pygments_lexer": "ipython3",
   "version": "3.10.14"
  }
 },
 "nbformat": 4,
 "nbformat_minor": 5
}
