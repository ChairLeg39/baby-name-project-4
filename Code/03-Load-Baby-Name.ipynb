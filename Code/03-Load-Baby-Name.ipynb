{
 "cells": [
  {
   "cell_type": "code",
   "execution_count": 1,
   "id": "2b36e16b-7183-4a75-b93b-4c4c291b7f55",
   "metadata": {},
   "outputs": [],
   "source": [
    "# Import dependencies\n",
    "import pandas as pd\n",
    "from pymongo import MongoClient"
   ]
  },
  {
   "cell_type": "code",
   "execution_count": 2,
   "id": "27daa761-fb61-471b-a0b0-668a97c8e08a",
   "metadata": {},
   "outputs": [],
   "source": [
    "# Create an instance of MongoClient\n",
    "mongo = MongoClient(port=27017)\n",
    "\n",
    "# Assign the database to a variable name\n",
    "db = mongo['babyNameDB']\n",
    "\n",
    "# Reference the collection\n",
    "baby_names_collection = db['babyNames']"
   ]
  },
  {
   "cell_type": "markdown",
   "id": "ef168cfa-d81b-42bc-bf51-58f77b225d4b",
   "metadata": {},
   "source": [
    "# Step 1a: Empty the collection, as needed"
   ]
  },
  {
   "cell_type": "code",
   "execution_count": 3,
   "id": "a6ef59d5-5189-4291-be21-cbba90f08550",
   "metadata": {},
   "outputs": [
    {
     "name": "stdout",
     "output_type": "stream",
     "text": [
      "Deleted 69214 documents from the collection.\n"
     ]
    }
   ],
   "source": [
    "# # Empty the collection\n",
    "# result = baby_names_collection.delete_many({})\n",
    "# print(f\"Deleted {result.deleted_count} documents from the collection.\")"
   ]
  },
  {
   "cell_type": "markdown",
   "id": "323e9ef8-c91d-499b-9c75-854672661b48",
   "metadata": {},
   "source": [
    "# Step 1b: Create the collection"
   ]
  },
  {
   "cell_type": "code",
   "execution_count": 4,
   "id": "87bf26ac-ee71-4e71-a0f8-059a52059574",
   "metadata": {},
   "outputs": [],
   "source": [
    "# Assign collection to a variable\n",
    "baby_names_collection = db['babyNames']"
   ]
  },
  {
   "cell_type": "code",
   "execution_count": 5,
   "id": "87d2b3dd-505f-47a6-8d92-556918dc4b70",
   "metadata": {},
   "outputs": [
    {
     "data": {
      "text/html": [
       "<div>\n",
       "<style scoped>\n",
       "    .dataframe tbody tr th:only-of-type {\n",
       "        vertical-align: middle;\n",
       "    }\n",
       "\n",
       "    .dataframe tbody tr th {\n",
       "        vertical-align: top;\n",
       "    }\n",
       "\n",
       "    .dataframe thead th {\n",
       "        text-align: right;\n",
       "    }\n",
       "</style>\n",
       "<table border=\"1\" class=\"dataframe\">\n",
       "  <thead>\n",
       "    <tr style=\"text-align: right;\">\n",
       "      <th></th>\n",
       "      <th>Year of Birth</th>\n",
       "      <th>Gender</th>\n",
       "      <th>Ethnicity</th>\n",
       "      <th>First Name</th>\n",
       "      <th>Count</th>\n",
       "      <th>Rank</th>\n",
       "    </tr>\n",
       "  </thead>\n",
       "  <tbody>\n",
       "    <tr>\n",
       "      <th>0</th>\n",
       "      <td>2011</td>\n",
       "      <td>FEMALE</td>\n",
       "      <td>HISPANIC</td>\n",
       "      <td>GERALDINE</td>\n",
       "      <td>13</td>\n",
       "      <td>75</td>\n",
       "    </tr>\n",
       "    <tr>\n",
       "      <th>1</th>\n",
       "      <td>2011</td>\n",
       "      <td>FEMALE</td>\n",
       "      <td>HISPANIC</td>\n",
       "      <td>GIA</td>\n",
       "      <td>21</td>\n",
       "      <td>67</td>\n",
       "    </tr>\n",
       "    <tr>\n",
       "      <th>2</th>\n",
       "      <td>2011</td>\n",
       "      <td>FEMALE</td>\n",
       "      <td>HISPANIC</td>\n",
       "      <td>GIANNA</td>\n",
       "      <td>49</td>\n",
       "      <td>42</td>\n",
       "    </tr>\n",
       "    <tr>\n",
       "      <th>3</th>\n",
       "      <td>2011</td>\n",
       "      <td>FEMALE</td>\n",
       "      <td>HISPANIC</td>\n",
       "      <td>GISELLE</td>\n",
       "      <td>38</td>\n",
       "      <td>51</td>\n",
       "    </tr>\n",
       "    <tr>\n",
       "      <th>4</th>\n",
       "      <td>2011</td>\n",
       "      <td>FEMALE</td>\n",
       "      <td>HISPANIC</td>\n",
       "      <td>GRACE</td>\n",
       "      <td>36</td>\n",
       "      <td>53</td>\n",
       "    </tr>\n",
       "    <tr>\n",
       "      <th>...</th>\n",
       "      <td>...</td>\n",
       "      <td>...</td>\n",
       "      <td>...</td>\n",
       "      <td>...</td>\n",
       "      <td>...</td>\n",
       "      <td>...</td>\n",
       "    </tr>\n",
       "    <tr>\n",
       "      <th>21607</th>\n",
       "      <td>2021</td>\n",
       "      <td>FEMALE</td>\n",
       "      <td>BLACK NON HISPANIC</td>\n",
       "      <td>OUMOU</td>\n",
       "      <td>10</td>\n",
       "      <td>31</td>\n",
       "    </tr>\n",
       "    <tr>\n",
       "      <th>21608</th>\n",
       "      <td>2021</td>\n",
       "      <td>FEMALE</td>\n",
       "      <td>BLACK NON HISPANIC</td>\n",
       "      <td>PAIGE</td>\n",
       "      <td>10</td>\n",
       "      <td>31</td>\n",
       "    </tr>\n",
       "    <tr>\n",
       "      <th>21609</th>\n",
       "      <td>2021</td>\n",
       "      <td>FEMALE</td>\n",
       "      <td>BLACK NON HISPANIC</td>\n",
       "      <td>SKYE</td>\n",
       "      <td>10</td>\n",
       "      <td>31</td>\n",
       "    </tr>\n",
       "    <tr>\n",
       "      <th>21610</th>\n",
       "      <td>2021</td>\n",
       "      <td>FEMALE</td>\n",
       "      <td>BLACK NON HISPANIC</td>\n",
       "      <td>TAYLOR</td>\n",
       "      <td>10</td>\n",
       "      <td>31</td>\n",
       "    </tr>\n",
       "    <tr>\n",
       "      <th>21611</th>\n",
       "      <td>2021</td>\n",
       "      <td>FEMALE</td>\n",
       "      <td>BLACK NON HISPANIC</td>\n",
       "      <td>TORI</td>\n",
       "      <td>10</td>\n",
       "      <td>31</td>\n",
       "    </tr>\n",
       "  </tbody>\n",
       "</table>\n",
       "<p>21612 rows × 6 columns</p>\n",
       "</div>"
      ],
      "text/plain": [
       "       Year of Birth  Gender           Ethnicity First Name  Count  Rank\n",
       "0               2011  FEMALE            HISPANIC  GERALDINE     13    75\n",
       "1               2011  FEMALE            HISPANIC        GIA     21    67\n",
       "2               2011  FEMALE            HISPANIC     GIANNA     49    42\n",
       "3               2011  FEMALE            HISPANIC    GISELLE     38    51\n",
       "4               2011  FEMALE            HISPANIC      GRACE     36    53\n",
       "...              ...     ...                 ...        ...    ...   ...\n",
       "21607           2021  FEMALE  BLACK NON HISPANIC      OUMOU     10    31\n",
       "21608           2021  FEMALE  BLACK NON HISPANIC      PAIGE     10    31\n",
       "21609           2021  FEMALE  BLACK NON HISPANIC       SKYE     10    31\n",
       "21610           2021  FEMALE  BLACK NON HISPANIC     TAYLOR     10    31\n",
       "21611           2021  FEMALE  BLACK NON HISPANIC       TORI     10    31\n",
       "\n",
       "[21612 rows x 6 columns]"
      ]
     },
     "execution_count": 5,
     "metadata": {},
     "output_type": "execute_result"
    }
   ],
   "source": [
    "# Read in baby names dataframe\n",
    "baby_names_df = pd.read_csv('../Output/baby_names_cleaned.csv')\n",
    "baby_names_df"
   ]
  },
  {
   "cell_type": "markdown",
   "id": "22be8f35-c717-42ef-96c1-fe45459e7cf0",
   "metadata": {},
   "source": [
    "# Step 2: Load baby_names into Mongo DB Collection"
   ]
  },
  {
   "cell_type": "code",
   "execution_count": 6,
   "id": "330603ce-2406-4814-9092-076ddbeb858a",
   "metadata": {},
   "outputs": [],
   "source": [
    "# Convert DataFrame to a list of dictionaries\n",
    "baby_names_dict = baby_names_df.to_dict('records')"
   ]
  },
  {
   "cell_type": "code",
   "execution_count": 7,
   "id": "333368e6-0323-46fa-b87b-691c5a96583a",
   "metadata": {},
   "outputs": [
    {
     "name": "stdout",
     "output_type": "stream",
     "text": [
      "Inserted 21612 documents into the babyNameDB collection.\n"
     ]
    }
   ],
   "source": [
    "# Insert baby names into Mongo DB collection\n",
    "insert_result = baby_names_collection.insert_many(baby_names_dict)\n",
    "print(f\"Inserted {len(insert_result.inserted_ids)} documents into the babyNameDB collection.\")"
   ]
  },
  {
   "cell_type": "code",
   "execution_count": null,
   "id": "56157222-5296-4d61-bcda-ffa5f464b385",
   "metadata": {},
   "outputs": [],
   "source": []
  }
 ],
 "metadata": {
  "kernelspec": {
   "display_name": "Python 3 (ipykernel)",
   "language": "python",
   "name": "python3"
  },
  "language_info": {
   "codemirror_mode": {
    "name": "ipython",
    "version": 3
   },
   "file_extension": ".py",
   "mimetype": "text/x-python",
   "name": "python",
   "nbconvert_exporter": "python",
   "pygments_lexer": "ipython3",
   "version": "3.10.14"
  }
 },
 "nbformat": 4,
 "nbformat_minor": 5
}
