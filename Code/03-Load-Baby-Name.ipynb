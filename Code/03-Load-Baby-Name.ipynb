{
 "cells": [
  {
   "cell_type": "code",
   "execution_count": 1,
   "id": "2b36e16b-7183-4a75-b93b-4c4c291b7f55",
   "metadata": {},
   "outputs": [],
   "source": [
    "# Import dependencies\n",
    "import pandas as pd\n",
    "import matplotlib.pyplot as plt\n",
    "from pymongo import MongoClient"
   ]
  },
  {
   "cell_type": "code",
   "execution_count": 2,
   "id": "27daa761-fb61-471b-a0b0-668a97c8e08a",
   "metadata": {},
   "outputs": [],
   "source": [
    "# Create an instance of MongoClient\n",
    "mongo = MongoClient(port=27017)\n",
    "\n",
    "# Assign the database to a variable name\n",
    "db = mongo['babyNameDB']"
   ]
  },
  {
   "cell_type": "markdown",
   "id": "ef168cfa-d81b-42bc-bf51-58f77b225d4b",
   "metadata": {},
   "source": [
    "# Step 1a: Empty the collection, as needed"
   ]
  },
  {
   "cell_type": "code",
   "execution_count": 3,
   "id": "a6ef59d5-5189-4291-be21-cbba90f08550",
   "metadata": {},
   "outputs": [],
   "source": [
    "# Empty the collection\n",
    "babyNames.delete_many({})"
   ]
  },
  {
   "cell_type": "markdown",
   "id": "323e9ef8-c91d-499b-9c75-854672661b48",
   "metadata": {},
   "source": [
    "# Step 1b: Create the collection"
   ]
  },
  {
   "cell_type": "code",
   "execution_count": 4,
   "id": "87bf26ac-ee71-4e71-a0f8-059a52059574",
   "metadata": {},
   "outputs": [],
   "source": [
    "# Assign collection to a variable\n",
    "baby_names = db['babyNames']"
   ]
  },
  {
   "cell_type": "code",
   "execution_count": null,
   "id": "87d2b3dd-505f-47a6-8d92-556918dc4b70",
   "metadata": {},
   "outputs": [],
   "source": [
    "# Read in baby names dataframe\n",
    "baby_names = pd.read_csv('../Output/baby_names_cleaned.csv')\n",
    "baby_names"
   ]
  },
  {
   "cell_type": "markdown",
   "id": "79702e8f-aa76-4234-980a-8a017d5286a4",
   "metadata": {},
   "source": [
    "# Step 2 - Load baby_names into Mongo DB Collection"
   ]
  },
  {
   "cell_type": "code",
   "execution_count": null,
   "id": "330603ce-2406-4814-9092-076ddbeb858a",
   "metadata": {},
   "outputs": [],
   "source": [
    "# Convert DataFrame to a list of dictionaries\n",
    "baby_names_list = baby_names.to_dict('records')"
   ]
  },
  {
   "cell_type": "code",
   "execution_count": null,
   "id": "333368e6-0323-46fa-b87b-691c5a96583a",
   "metadata": {},
   "outputs": [],
   "source": [
    "# Insert baby names into Mongo DB collection\n",
    "baby_names.insert_many(baby_names_list)"
   ]
  }
 ],
 "metadata": {
  "kernelspec": {
   "display_name": "Python 3 (ipykernel)",
   "language": "python",
   "name": "python3"
  },
  "language_info": {
   "codemirror_mode": {
    "name": "ipython",
    "version": 3
   },
   "file_extension": ".py",
   "mimetype": "text/x-python",
   "name": "python",
   "nbconvert_exporter": "python",
   "pygments_lexer": "ipython3",
   "version": "3.10.14"
  }
 },
 "nbformat": 4,
 "nbformat_minor": 5
}
