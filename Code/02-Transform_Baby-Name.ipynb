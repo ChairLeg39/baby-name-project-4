{
 "cells": [
  {
   "cell_type": "code",
   "execution_count": 1,
   "id": "2b36e16b-7183-4a75-b93b-4c4c291b7f55",
   "metadata": {},
   "outputs": [],
   "source": [
    "# Import dependencies\n",
    "import pandas as pd\n",
    "import matplotlib.pyplot as plt\n",
    "from pymongo import MongoClient"
   ]
  },
  {
   "cell_type": "code",
   "execution_count": 2,
   "id": "6e1475ee-4d83-4d4f-8d6a-cbbfde81e82e",
   "metadata": {},
   "outputs": [
    {
     "data": {
      "text/html": [
       "<div>\n",
       "<style scoped>\n",
       "    .dataframe tbody tr th:only-of-type {\n",
       "        vertical-align: middle;\n",
       "    }\n",
       "\n",
       "    .dataframe tbody tr th {\n",
       "        vertical-align: top;\n",
       "    }\n",
       "\n",
       "    .dataframe thead th {\n",
       "        text-align: right;\n",
       "    }\n",
       "</style>\n",
       "<table border=\"1\" class=\"dataframe\">\n",
       "  <thead>\n",
       "    <tr style=\"text-align: right;\">\n",
       "      <th></th>\n",
       "      <th>Year of Birth</th>\n",
       "      <th>Gender</th>\n",
       "      <th>Ethnicity</th>\n",
       "      <th>Child's First Name</th>\n",
       "      <th>Count</th>\n",
       "      <th>Rank</th>\n",
       "    </tr>\n",
       "  </thead>\n",
       "  <tbody>\n",
       "    <tr>\n",
       "      <th>0</th>\n",
       "      <td>2011</td>\n",
       "      <td>FEMALE</td>\n",
       "      <td>HISPANIC</td>\n",
       "      <td>GERALDINE</td>\n",
       "      <td>13</td>\n",
       "      <td>75</td>\n",
       "    </tr>\n",
       "    <tr>\n",
       "      <th>1</th>\n",
       "      <td>2011</td>\n",
       "      <td>FEMALE</td>\n",
       "      <td>HISPANIC</td>\n",
       "      <td>GIA</td>\n",
       "      <td>21</td>\n",
       "      <td>67</td>\n",
       "    </tr>\n",
       "    <tr>\n",
       "      <th>2</th>\n",
       "      <td>2011</td>\n",
       "      <td>FEMALE</td>\n",
       "      <td>HISPANIC</td>\n",
       "      <td>GIANNA</td>\n",
       "      <td>49</td>\n",
       "      <td>42</td>\n",
       "    </tr>\n",
       "    <tr>\n",
       "      <th>3</th>\n",
       "      <td>2011</td>\n",
       "      <td>FEMALE</td>\n",
       "      <td>HISPANIC</td>\n",
       "      <td>GISELLE</td>\n",
       "      <td>38</td>\n",
       "      <td>51</td>\n",
       "    </tr>\n",
       "    <tr>\n",
       "      <th>4</th>\n",
       "      <td>2011</td>\n",
       "      <td>FEMALE</td>\n",
       "      <td>HISPANIC</td>\n",
       "      <td>GRACE</td>\n",
       "      <td>36</td>\n",
       "      <td>53</td>\n",
       "    </tr>\n",
       "    <tr>\n",
       "      <th>...</th>\n",
       "      <td>...</td>\n",
       "      <td>...</td>\n",
       "      <td>...</td>\n",
       "      <td>...</td>\n",
       "      <td>...</td>\n",
       "      <td>...</td>\n",
       "    </tr>\n",
       "    <tr>\n",
       "      <th>69209</th>\n",
       "      <td>2012</td>\n",
       "      <td>MALE</td>\n",
       "      <td>BLACK NON HISP</td>\n",
       "      <td>CAYDEN</td>\n",
       "      <td>19</td>\n",
       "      <td>52</td>\n",
       "    </tr>\n",
       "    <tr>\n",
       "      <th>69210</th>\n",
       "      <td>2013</td>\n",
       "      <td>FEMALE</td>\n",
       "      <td>WHITE NON HISPANIC</td>\n",
       "      <td>Margaret</td>\n",
       "      <td>25</td>\n",
       "      <td>67</td>\n",
       "    </tr>\n",
       "    <tr>\n",
       "      <th>69211</th>\n",
       "      <td>2013</td>\n",
       "      <td>FEMALE</td>\n",
       "      <td>WHITE NON HISPANIC</td>\n",
       "      <td>Tamar</td>\n",
       "      <td>10</td>\n",
       "      <td>82</td>\n",
       "    </tr>\n",
       "    <tr>\n",
       "      <th>69212</th>\n",
       "      <td>2013</td>\n",
       "      <td>FEMALE</td>\n",
       "      <td>WHITE NON HISPANIC</td>\n",
       "      <td>Amanda</td>\n",
       "      <td>13</td>\n",
       "      <td>79</td>\n",
       "    </tr>\n",
       "    <tr>\n",
       "      <th>69213</th>\n",
       "      <td>2012</td>\n",
       "      <td>FEMALE</td>\n",
       "      <td>HISPANIC</td>\n",
       "      <td>ANNA</td>\n",
       "      <td>10</td>\n",
       "      <td>79</td>\n",
       "    </tr>\n",
       "  </tbody>\n",
       "</table>\n",
       "<p>69214 rows × 6 columns</p>\n",
       "</div>"
      ],
      "text/plain": [
       "       Year of Birth  Gender           Ethnicity Child's First Name  Count  \\\n",
       "0               2011  FEMALE            HISPANIC          GERALDINE     13   \n",
       "1               2011  FEMALE            HISPANIC                GIA     21   \n",
       "2               2011  FEMALE            HISPANIC             GIANNA     49   \n",
       "3               2011  FEMALE            HISPANIC            GISELLE     38   \n",
       "4               2011  FEMALE            HISPANIC              GRACE     36   \n",
       "...              ...     ...                 ...                ...    ...   \n",
       "69209           2012    MALE      BLACK NON HISP             CAYDEN     19   \n",
       "69210           2013  FEMALE  WHITE NON HISPANIC           Margaret     25   \n",
       "69211           2013  FEMALE  WHITE NON HISPANIC              Tamar     10   \n",
       "69212           2013  FEMALE  WHITE NON HISPANIC             Amanda     13   \n",
       "69213           2012  FEMALE            HISPANIC               ANNA     10   \n",
       "\n",
       "       Rank  \n",
       "0        75  \n",
       "1        67  \n",
       "2        42  \n",
       "3        51  \n",
       "4        53  \n",
       "...     ...  \n",
       "69209    52  \n",
       "69210    67  \n",
       "69211    82  \n",
       "69212    79  \n",
       "69213    79  \n",
       "\n",
       "[69214 rows x 6 columns]"
      ]
     },
     "execution_count": 2,
     "metadata": {},
     "output_type": "execute_result"
    }
   ],
   "source": [
    "# Read in baby names dataframe\n",
    "baby_names_df = pd.read_csv('../Resources/Popular_Baby_Names.csv')\n",
    "baby_names_df"
   ]
  },
  {
   "cell_type": "markdown",
   "id": "ffb729ea-39a1-45e4-8511-e8e170fb6b1d",
   "metadata": {},
   "source": [
    "# Step 1 - Analyze Dataframe"
   ]
  },
  {
   "cell_type": "code",
   "execution_count": 3,
   "id": "d5c9b8c1-33fc-4ceb-a781-9679ae24186b",
   "metadata": {},
   "outputs": [
    {
     "name": "stdout",
     "output_type": "stream",
     "text": [
      "<class 'pandas.core.frame.DataFrame'>\n",
      "RangeIndex: 69214 entries, 0 to 69213\n",
      "Data columns (total 6 columns):\n",
      " #   Column              Non-Null Count  Dtype \n",
      "---  ------              --------------  ----- \n",
      " 0   Year of Birth       69214 non-null  int64 \n",
      " 1   Gender              69214 non-null  object\n",
      " 2   Ethnicity           69214 non-null  object\n",
      " 3   Child's First Name  69214 non-null  object\n",
      " 4   Count               69214 non-null  int64 \n",
      " 5   Rank                69214 non-null  int64 \n",
      "dtypes: int64(3), object(3)\n",
      "memory usage: 3.2+ MB\n"
     ]
    }
   ],
   "source": [
    "# Display basic information about the dataframe\n",
    "baby_names_df.info()"
   ]
  },
  {
   "cell_type": "code",
   "execution_count": 4,
   "id": "79c95136-e8c1-4d2e-9b61-66273567fd19",
   "metadata": {},
   "outputs": [
    {
     "data": {
      "text/plain": [
       "(69214, 6)"
      ]
     },
     "execution_count": 4,
     "metadata": {},
     "output_type": "execute_result"
    }
   ],
   "source": [
    "# Display the number of rows and columns\n",
    "baby_names_df.shape"
   ]
  },
  {
   "cell_type": "code",
   "execution_count": 5,
   "id": "e1a878f7-4a08-4c30-824c-6f3d27f69b47",
   "metadata": {},
   "outputs": [
    {
     "name": "stdout",
     "output_type": "stream",
     "text": [
      "Count of names for each year:\n",
      "Year of Birth\n",
      "2011    13715\n",
      "2012    13875\n",
      "2013    13920\n",
      "2014    14165\n",
      "2015     2045\n",
      "2016     2063\n",
      "2017     1973\n",
      "2018     1964\n",
      "2019     1935\n",
      "2020     1769\n",
      "2021     1790\n",
      "Name: count, dtype: int64\n"
     ]
    }
   ],
   "source": [
    "# Get the count of names for each year\n",
    "year_counts = baby_names_df['Year of Birth'].value_counts().sort_index()\n",
    "\n",
    "# Display the counts\n",
    "print(\"Count of names for each year:\")\n",
    "print(year_counts)"
   ]
  },
  {
   "cell_type": "code",
   "execution_count": 6,
   "id": "4f5f3e04-9d0d-42a1-b207-33eff2bdbd6b",
   "metadata": {},
   "outputs": [
    {
     "name": "stdout",
     "output_type": "stream",
     "text": [
      "Count by Gender:\n",
      "Gender\n",
      "FEMALE    35299\n",
      "MALE      33915\n",
      "Name: count, dtype: int64\n"
     ]
    }
   ],
   "source": [
    "# Get the count by gender for the entire dataframe\n",
    "gender_count = baby_names_df['Gender'].value_counts().sort_index()\n",
    "\n",
    "# Display the counts\n",
    "print(\"Count by Gender:\")\n",
    "print(gender_count)"
   ]
  },
  {
   "cell_type": "code",
   "execution_count": 7,
   "id": "00fe76f6-0635-4f23-83a5-f63dac35247d",
   "metadata": {},
   "outputs": [
    {
     "name": "stdout",
     "output_type": "stream",
     "text": [
      "Count by Ethnicity:\n",
      "Ethnicity\n",
      "ASIAN AND PACI                 2483\n",
      "ASIAN AND PACIFIC ISLANDER     9383\n",
      "BLACK NON HISP                 2446\n",
      "BLACK NON HISPANIC            10052\n",
      "HISPANIC                      20365\n",
      "WHITE NON HISP                 4843\n",
      "WHITE NON HISPANIC            19642\n",
      "Name: count, dtype: int64\n"
     ]
    }
   ],
   "source": [
    "# Get the count by gender for the entire dataframe\n",
    "ethnicity_count = baby_names_df['Ethnicity'].value_counts().sort_index()\n",
    "\n",
    "# Display the counts\n",
    "print(\"Count by Ethnicity:\")\n",
    "print(ethnicity_count)"
   ]
  },
  {
   "cell_type": "code",
   "execution_count": 8,
   "id": "073ff7c4-645a-47b2-99a5-fef6673ac180",
   "metadata": {},
   "outputs": [
    {
     "name": "stdout",
     "output_type": "stream",
     "text": [
      "Count by Name:\n",
      "Child's First Name\n",
      "AALIYAH    28\n",
      "AARAV      14\n",
      "AARON      53\n",
      "AAYAN       7\n",
      "ABBY       14\n",
      "           ..\n",
      "Zola        1\n",
      "Zora        1\n",
      "Zoya       12\n",
      "Zuri       23\n",
      "Zyaire      3\n",
      "Name: count, Length: 3302, dtype: int64\n"
     ]
    }
   ],
   "source": [
    "# Get the count by name for the entire dataframe\n",
    "name_count = baby_names_df['Child\\'s First Name'].value_counts().sort_index()\n",
    "\n",
    "# Display the counts\n",
    "print(\"Count by Name:\")\n",
    "print(name_count)"
   ]
  },
  {
   "cell_type": "markdown",
   "id": "1ade45b6-437a-4cbd-bfa2-da700639d181",
   "metadata": {},
   "source": [
    "# Step 2 - Preprocess Ethnicity Column"
   ]
  },
  {
   "cell_type": "code",
   "execution_count": 9,
   "id": "16202126-af8e-4c70-8599-cca78f70d452",
   "metadata": {},
   "outputs": [
    {
     "name": "stdout",
     "output_type": "stream",
     "text": [
      "\n",
      "After consolidation:\n",
      "Ethnicity\n",
      "ASIAN AND PACIFIC ISLANDER    11866\n",
      "BLACK NON HISPANIC            12498\n",
      "HISPANIC                      20365\n",
      "WHITE NON HISPANIC            24485\n",
      "Name: count, dtype: int64\n"
     ]
    }
   ],
   "source": [
    "# Create a dictionary for mapping\n",
    "ethnicity_map = {\n",
    "    'ASIAN AND PACI': 'ASIAN AND PACIFIC ISLANDER',\n",
    "    'BLACK NON HISP': 'BLACK NON HISPANIC',\n",
    "    'WHITE NON HISP': 'WHITE NON HISPANIC'\n",
    "}\n",
    "\n",
    "# Replace the values using the mapping\n",
    "baby_names_df['Ethnicity'] = baby_names_df['Ethnicity'].replace(ethnicity_map)\n",
    "\n",
    "# Check the results\n",
    "print(\"\\nAfter consolidation:\")\n",
    "print(baby_names_df['Ethnicity'].value_counts().sort_index())"
   ]
  },
  {
   "cell_type": "markdown",
   "id": "c742eaaa-1d9e-4616-b5c5-38faa6e4be4e",
   "metadata": {},
   "source": [
    "# Step 3 - Convert First Names to Upper Case"
   ]
  },
  {
   "cell_type": "code",
   "execution_count": 10,
   "id": "4839ab27-85a2-4766-a858-1ca190b4b71d",
   "metadata": {},
   "outputs": [
    {
     "name": "stdout",
     "output_type": "stream",
     "text": [
      "Current unique name count: 3302\n",
      "New unique name count after standardization: 2021\n",
      "14255       NOOR\n",
      "35850     ZARIAH\n",
      "67022    MICHAEL\n",
      "35419     SAWYER\n",
      "51137     THOMAS\n",
      "6918       SARAH\n",
      "61958       JOEL\n",
      "40526    MARIANA\n",
      "33401      LAURA\n",
      "16956       MILA\n",
      "Name: First Name, dtype: object\n"
     ]
    }
   ],
   "source": [
    "# Rename the column\n",
    "baby_names_df = baby_names_df.rename(columns={\"Child's First Name\": \"First Name\"})\n",
    "\n",
    "# Check current unique count of first names\n",
    "print(f\"Current unique name count: {baby_names_df['First Name'].nunique()}\")\n",
    "\n",
    "# Convert to uppercase\n",
    "baby_names_df['First Name'] = baby_names_df['First Name'].str.upper()\n",
    "\n",
    "# Check new unique count\n",
    "print(f\"New unique name count after standardization: {baby_names_df['First Name'].nunique()}\")\n",
    "\n",
    "# Verify change through random sampling\n",
    "print(baby_names_df['First Name'].sample(10))"
   ]
  },
  {
   "cell_type": "markdown",
   "id": "be1e5435-a7ea-4054-a2c6-aa888b1cdc04",
   "metadata": {},
   "source": [
    "# Step 4 - Save preprocessed dataframe to a new CSV file"
   ]
  },
  {
   "cell_type": "code",
   "execution_count": 12,
   "id": "bb6869ae-03e8-47aa-96fc-d48d9f58288c",
   "metadata": {},
   "outputs": [],
   "source": [
    "# Save the updated DataFrame to a new CSV file\n",
    "baby_names_df.to_csv('../Output/baby_names_cleaned.csv', index=False)"
   ]
  },
  {
   "cell_type": "code",
   "execution_count": null,
   "id": "74f02616-53d8-4913-985a-70f892c3f90f",
   "metadata": {},
   "outputs": [],
   "source": []
  }
 ],
 "metadata": {
  "kernelspec": {
   "display_name": "Python 3 (ipykernel)",
   "language": "python",
   "name": "python3"
  },
  "language_info": {
   "codemirror_mode": {
    "name": "ipython",
    "version": 3
   },
   "file_extension": ".py",
   "mimetype": "text/x-python",
   "name": "python",
   "nbconvert_exporter": "python",
   "pygments_lexer": "ipython3",
   "version": "3.10.14"
  }
 },
 "nbformat": 4,
 "nbformat_minor": 5
}
