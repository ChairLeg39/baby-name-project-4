{
 "cells": [
  {
   "cell_type": "code",
   "execution_count": 1,
   "id": "e966691f-4e63-44f7-b820-39e090398358",
   "metadata": {},
   "outputs": [],
   "source": [
    "# Import dependencies\n",
    "from pymongo import MongoClient\n",
    "from pprint import pprint"
   ]
  },
  {
   "cell_type": "code",
   "execution_count": 2,
   "id": "1e00269a-e0a4-4836-817b-7d00e9269a2d",
   "metadata": {},
   "outputs": [],
   "source": [
    "# Create an instance of MongoClient\n",
    "mongo = MongoClient(port=27017)"
   ]
  },
  {
   "cell_type": "code",
   "execution_count": 3,
   "id": "b40f6030-2fbc-4d33-afa4-844cfe3d3bf2",
   "metadata": {},
   "outputs": [
    {
     "name": "stdout",
     "output_type": "stream",
     "text": [
      "['Project_4', 'admin', 'config', 'local', 'uk_food']\n"
     ]
    }
   ],
   "source": [
    "# confirm that our new database was created\n",
    "print(mongo.list_database_names())"
   ]
  },
  {
   "cell_type": "code",
   "execution_count": 6,
   "id": "3b543c6a-f124-4f03-99ad-74ab52b8d10d",
   "metadata": {},
   "outputs": [],
   "source": [
    "# assign the uk_food database to a variable name\n",
    "db = mongo['Project_4']"
   ]
  },
  {
   "cell_type": "code",
   "execution_count": 7,
   "id": "73c8e90d-6ef6-4901-8790-c587b723c039",
   "metadata": {},
   "outputs": [
    {
     "name": "stdout",
     "output_type": "stream",
     "text": [
      "['Baby_Names']\n"
     ]
    }
   ],
   "source": [
    "# review the collections in our new database\n",
    "print(db.list_collection_names())"
   ]
  },
  {
   "cell_type": "code",
   "execution_count": 19,
   "id": "0a5cc661-ebab-4275-be44-7aa251e82940",
   "metadata": {},
   "outputs": [],
   "source": [
    "# assign the collection to a variable\n",
    "Baby_Names = db['Baby_Names']"
   ]
  },
  {
   "cell_type": "code",
   "execution_count": 20,
   "id": "926ab0da-0e0b-4892-b682-52d4dd15b89e",
   "metadata": {},
   "outputs": [
    {
     "name": "stdout",
     "output_type": "stream",
     "text": [
      "52\n",
      "{\"Child's First Name\": 'CHLOE',\n",
      " 'Count': 172,\n",
      " 'Ethnicity': 'ASIAN AND PACI',\n",
      " 'Gender': 'FEMALE',\n",
      " 'Rank': 1,\n",
      " 'Year of Birth': 2012,\n",
      " '_id': ObjectId('66bea3639bb2c42ecb3fb6e3')}\n"
     ]
    }
   ],
   "source": [
    "# Find the establishments with a hygiene score of 20\n",
    "query = {'Year of Birth': 2012, 'Rank': 1}\n",
    "\n",
    "# Use count_documents to display the number of documents in the result\n",
    "print(Baby_Names.count_documents(query))\n",
    "# Display the first document in the results using pprint\n",
    "pprint(Baby_Names.find_one(query))"
   ]
  },
  {
   "cell_type": "code",
   "execution_count": null,
   "id": "10b57072-9c1f-458a-a8fa-0604f3543b33",
   "metadata": {},
   "outputs": [],
   "source": []
  },
  {
   "cell_type": "code",
   "execution_count": null,
   "id": "5cea143b-3384-4eed-bb79-a99f9a9b6d68",
   "metadata": {},
   "outputs": [],
   "source": []
  }
 ],
 "metadata": {
  "kernelspec": {
   "display_name": "Python 3 (ipykernel)",
   "language": "python",
   "name": "python3"
  },
  "language_info": {
   "codemirror_mode": {
    "name": "ipython",
    "version": 3
   },
   "file_extension": ".py",
   "mimetype": "text/x-python",
   "name": "python",
   "nbconvert_exporter": "python",
   "pygments_lexer": "ipython3",
   "version": "3.11.7"
  }
 },
 "nbformat": 4,
 "nbformat_minor": 5
}
